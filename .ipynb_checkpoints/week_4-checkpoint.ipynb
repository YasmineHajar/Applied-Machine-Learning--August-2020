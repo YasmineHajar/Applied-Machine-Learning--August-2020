{
 "cells": [
  {
   "cell_type": "markdown",
   "metadata": {},
   "source": [
    "### Week 4: Applied Machine Learning"
   ]
  },
  {
   "cell_type": "code",
   "execution_count": 22,
   "metadata": {},
   "outputs": [],
   "source": [
    "def f(x):\n",
    "    '''\n",
    "    This function takes in an argument x and returns x**2\n",
    "    \n",
    "    Arguments\n",
    "    ---------\n",
    "    x = numpy array type\n",
    "    \n",
    "    Returns\n",
    "    -------\n",
    "    array of x **2\n",
    "    '''\n",
    "    return x**2"
   ]
  },
  {
   "cell_type": "code",
   "execution_count": 23,
   "metadata": {},
   "outputs": [
    {
     "data": {
      "text/plain": [
       "\u001b[0;31mSignature:\u001b[0m \u001b[0mf\u001b[0m\u001b[0;34m(\u001b[0m\u001b[0mx\u001b[0m\u001b[0;34m)\u001b[0m\u001b[0;34m\u001b[0m\u001b[0;34m\u001b[0m\u001b[0m\n",
       "\u001b[0;31mDocstring:\u001b[0m\n",
       "This function takes in an argument x and returns x**2\n",
       "\n",
       "Arguments\n",
       "---------\n",
       "x = numpy array type\n",
       "\n",
       "Returns\n",
       "-------\n",
       "array of x **2\n",
       "\u001b[0;31mFile:\u001b[0m      ~/Desktop/now/emeritus/sept_ml/<ipython-input-22-cbfbce3240f2>\n",
       "\u001b[0;31mType:\u001b[0m      function\n"
      ]
     },
     "metadata": {},
     "output_type": "display_data"
    }
   ],
   "source": [
    "f?"
   ]
  },
  {
   "cell_type": "code",
   "execution_count": 10,
   "metadata": {},
   "outputs": [
    {
     "data": {
      "text/plain": [
       "16"
      ]
     },
     "execution_count": 10,
     "metadata": {},
     "output_type": "execute_result"
    }
   ],
   "source": [
    "f(4)"
   ]
  },
  {
   "cell_type": "code",
   "execution_count": 13,
   "metadata": {},
   "outputs": [
    {
     "data": {
      "text/plain": [
       "[4, 1, 0, 1]"
      ]
     },
     "execution_count": 13,
     "metadata": {},
     "output_type": "execute_result"
    }
   ],
   "source": [
    "[f(i) for i in range(-2, 2)]"
   ]
  },
  {
   "cell_type": "code",
   "execution_count": 12,
   "metadata": {},
   "outputs": [],
   "source": [
    "import numpy as np\n",
    "X = np.array([1, 2, 3, 4])"
   ]
  },
  {
   "cell_type": "code",
   "execution_count": 14,
   "metadata": {},
   "outputs": [
    {
     "data": {
      "text/plain": [
       "array([ 1,  4,  9, 16])"
      ]
     },
     "execution_count": 14,
     "metadata": {},
     "output_type": "execute_result"
    }
   ],
   "source": [
    "f(X)"
   ]
  },
  {
   "cell_type": "code",
   "execution_count": 15,
   "metadata": {},
   "outputs": [],
   "source": [
    "nums = np.random.random(size = 100)"
   ]
  },
  {
   "cell_type": "code",
   "execution_count": 20,
   "metadata": {},
   "outputs": [],
   "source": [
    "data = {'x': nums,\n",
    "        'f(x)': f(nums)}"
   ]
  },
  {
   "cell_type": "code",
   "execution_count": 27,
   "metadata": {},
   "outputs": [],
   "source": [
    "nouns = ['steve', 'dog', 'bottle']\n",
    "\n",
    "def is_noun(x):\n",
    "    \n",
    "    if x in nouns:\n",
    "        return 'yeah, its a noun'\n",
    "    else:\n",
    "        return 'maybe it is, maybe it isnt'"
   ]
  },
  {
   "cell_type": "code",
   "execution_count": 28,
   "metadata": {},
   "outputs": [
    {
     "data": {
      "text/plain": [
       "'yeah, its a noun'"
      ]
     },
     "execution_count": 28,
     "metadata": {},
     "output_type": "execute_result"
    }
   ],
   "source": [
    "is_noun('dog')"
   ]
  },
  {
   "cell_type": "code",
   "execution_count": 29,
   "metadata": {},
   "outputs": [
    {
     "data": {
      "text/plain": [
       "['steve', 'dog', 'bottle']"
      ]
     },
     "execution_count": 29,
     "metadata": {},
     "output_type": "execute_result"
    }
   ],
   "source": [
    "nouns"
   ]
  },
  {
   "cell_type": "markdown",
   "metadata": {},
   "source": [
    "### Nested Functions"
   ]
  },
  {
   "cell_type": "code",
   "execution_count": 37,
   "metadata": {},
   "outputs": [],
   "source": [
    "def f(x):\n",
    "    def g(x):\n",
    "        return x**2\n",
    "    return g(x)**2"
   ]
  },
  {
   "cell_type": "code",
   "execution_count": 38,
   "metadata": {},
   "outputs": [],
   "source": [
    "y = f(2)"
   ]
  },
  {
   "cell_type": "code",
   "execution_count": 40,
   "metadata": {},
   "outputs": [
    {
     "data": {
      "text/plain": [
       "81"
      ]
     },
     "execution_count": 40,
     "metadata": {},
     "output_type": "execute_result"
    }
   ],
   "source": [
    "f(3)"
   ]
  },
  {
   "cell_type": "markdown",
   "metadata": {},
   "source": [
    "### Reading in a `.csv` file"
   ]
  },
  {
   "cell_type": "code",
   "execution_count": 57,
   "metadata": {},
   "outputs": [
    {
     "name": "stdout",
     "output_type": "stream",
     "text": [
      "/Users/jacobkoehler/Desktop/now/emeritus/sept_ml\n"
     ]
    }
   ],
   "source": [
    "!pwd"
   ]
  },
  {
   "cell_type": "code",
   "execution_count": 42,
   "metadata": {},
   "outputs": [],
   "source": [
    "with open('data/census.csv') as f:\n",
    "    data = f.read()"
   ]
  },
  {
   "cell_type": "code",
   "execution_count": 44,
   "metadata": {},
   "outputs": [],
   "source": [
    "import pandas as pd"
   ]
  },
  {
   "cell_type": "code",
   "execution_count": 48,
   "metadata": {},
   "outputs": [],
   "source": [
    "data = pd.read_csv('data/census.csv', skiprows = 3)"
   ]
  },
  {
   "cell_type": "code",
   "execution_count": null,
   "metadata": {},
   "outputs": [],
   "source": [
    "data"
   ]
  },
  {
   "cell_type": "code",
   "execution_count": 49,
   "metadata": {},
   "outputs": [
    {
     "data": {
      "text/plain": [
       "pandas.core.frame.DataFrame"
      ]
     },
     "execution_count": 49,
     "metadata": {},
     "output_type": "execute_result"
    }
   ],
   "source": [
    "type(data)"
   ]
  },
  {
   "cell_type": "code",
   "execution_count": 63,
   "metadata": {},
   "outputs": [
    {
     "data": {
      "text/html": [
       "<div>\n",
       "<style scoped>\n",
       "    .dataframe tbody tr th:only-of-type {\n",
       "        vertical-align: middle;\n",
       "    }\n",
       "\n",
       "    .dataframe tbody tr th {\n",
       "        vertical-align: top;\n",
       "    }\n",
       "\n",
       "    .dataframe thead th {\n",
       "        text-align: right;\n",
       "    }\n",
       "</style>\n",
       "<table border=\"1\" class=\"dataframe\">\n",
       "  <thead>\n",
       "    <tr style=\"text-align: right;\">\n",
       "      <th></th>\n",
       "      <th>Unnamed: 0</th>\n",
       "      <th>Unnamed: 1</th>\n",
       "      <th>Census</th>\n",
       "      <th>Estimates Base</th>\n",
       "      <th>2010</th>\n",
       "      <th>2011</th>\n",
       "      <th>2012</th>\n",
       "      <th>2013</th>\n",
       "      <th>2014</th>\n",
       "      <th>2015</th>\n",
       "      <th>2016</th>\n",
       "      <th>2017</th>\n",
       "      <th>2018</th>\n",
       "      <th>2019</th>\n",
       "    </tr>\n",
       "  </thead>\n",
       "  <tbody>\n",
       "    <tr>\n",
       "      <th>0</th>\n",
       "      <td>1</td>\n",
       "      <td>New York city, New York</td>\n",
       "      <td>8,175,133</td>\n",
       "      <td>8,175,031</td>\n",
       "      <td>8,190,209</td>\n",
       "      <td>8,272,948</td>\n",
       "      <td>8,346,693</td>\n",
       "      <td>8,396,091</td>\n",
       "      <td>8,433,806</td>\n",
       "      <td>8,463,049</td>\n",
       "      <td>8,469,153</td>\n",
       "      <td>8,437,478</td>\n",
       "      <td>8,390,081</td>\n",
       "      <td>8,336,817</td>\n",
       "    </tr>\n",
       "    <tr>\n",
       "      <th>1</th>\n",
       "      <td>2</td>\n",
       "      <td>Los Angeles city, California</td>\n",
       "      <td>3,792,621</td>\n",
       "      <td>3,793,139</td>\n",
       "      <td>3,795,512</td>\n",
       "      <td>3,820,876</td>\n",
       "      <td>3,851,202</td>\n",
       "      <td>3,881,622</td>\n",
       "      <td>3,909,901</td>\n",
       "      <td>3,938,568</td>\n",
       "      <td>3,963,226</td>\n",
       "      <td>3,975,788</td>\n",
       "      <td>3,977,596</td>\n",
       "      <td>3,979,576</td>\n",
       "    </tr>\n",
       "    <tr>\n",
       "      <th>2</th>\n",
       "      <td>3</td>\n",
       "      <td>Chicago city, Illinois</td>\n",
       "      <td>2,695,598</td>\n",
       "      <td>2,695,652</td>\n",
       "      <td>2,697,477</td>\n",
       "      <td>2,708,114</td>\n",
       "      <td>2,719,141</td>\n",
       "      <td>2,725,731</td>\n",
       "      <td>2,727,066</td>\n",
       "      <td>2,724,344</td>\n",
       "      <td>2,716,723</td>\n",
       "      <td>2,711,069</td>\n",
       "      <td>2,701,423</td>\n",
       "      <td>2,693,976</td>\n",
       "    </tr>\n",
       "    <tr>\n",
       "      <th>3</th>\n",
       "      <td>4</td>\n",
       "      <td>Houston city, Texas</td>\n",
       "      <td>2,099,451</td>\n",
       "      <td>2,095,517</td>\n",
       "      <td>2,100,280</td>\n",
       "      <td>2,126,032</td>\n",
       "      <td>2,161,593</td>\n",
       "      <td>2,199,391</td>\n",
       "      <td>2,241,826</td>\n",
       "      <td>2,286,908</td>\n",
       "      <td>2,309,544</td>\n",
       "      <td>2,316,750</td>\n",
       "      <td>2,318,573</td>\n",
       "      <td>2,320,268</td>\n",
       "    </tr>\n",
       "    <tr>\n",
       "      <th>4</th>\n",
       "      <td>5</td>\n",
       "      <td>Phoenix city, Arizona</td>\n",
       "      <td>1,445,632</td>\n",
       "      <td>1,446,691</td>\n",
       "      <td>1,449,038</td>\n",
       "      <td>1,469,796</td>\n",
       "      <td>1,499,274</td>\n",
       "      <td>1,526,491</td>\n",
       "      <td>1,555,445</td>\n",
       "      <td>1,583,690</td>\n",
       "      <td>1,612,199</td>\n",
       "      <td>1,633,560</td>\n",
       "      <td>1,654,675</td>\n",
       "      <td>1,680,992</td>\n",
       "    </tr>\n",
       "  </tbody>\n",
       "</table>\n",
       "</div>"
      ],
      "text/plain": [
       "  Unnamed: 0                    Unnamed: 1     Census Estimates Base  \\\n",
       "0          1       New York city, New York  8,175,133      8,175,031   \n",
       "1          2  Los Angeles city, California  3,792,621      3,793,139   \n",
       "2          3        Chicago city, Illinois  2,695,598      2,695,652   \n",
       "3          4           Houston city, Texas  2,099,451      2,095,517   \n",
       "4          5         Phoenix city, Arizona  1,445,632      1,446,691   \n",
       "\n",
       "        2010       2011       2012       2013       2014       2015  \\\n",
       "0  8,190,209  8,272,948  8,346,693  8,396,091  8,433,806  8,463,049   \n",
       "1  3,795,512  3,820,876  3,851,202  3,881,622  3,909,901  3,938,568   \n",
       "2  2,697,477  2,708,114  2,719,141  2,725,731  2,727,066  2,724,344   \n",
       "3  2,100,280  2,126,032  2,161,593  2,199,391  2,241,826  2,286,908   \n",
       "4  1,449,038  1,469,796  1,499,274  1,526,491  1,555,445  1,583,690   \n",
       "\n",
       "        2016       2017       2018       2019  \n",
       "0  8,469,153  8,437,478  8,390,081  8,336,817  \n",
       "1  3,963,226  3,975,788  3,977,596  3,979,576  \n",
       "2  2,716,723  2,711,069  2,701,423  2,693,976  \n",
       "3  2,309,544  2,316,750  2,318,573  2,320,268  \n",
       "4  1,612,199  1,633,560  1,654,675  1,680,992  "
      ]
     },
     "execution_count": 63,
     "metadata": {},
     "output_type": "execute_result"
    }
   ],
   "source": [
    "#peek at top rows\n",
    "data.head()"
   ]
  },
  {
   "cell_type": "code",
   "execution_count": 60,
   "metadata": {},
   "outputs": [],
   "source": [
    "#extract rows 0 - 5, and columns 0 - 5"
   ]
  },
  {
   "cell_type": "code",
   "execution_count": 61,
   "metadata": {},
   "outputs": [
    {
     "data": {
      "text/html": [
       "<div>\n",
       "<style scoped>\n",
       "    .dataframe tbody tr th:only-of-type {\n",
       "        vertical-align: middle;\n",
       "    }\n",
       "\n",
       "    .dataframe tbody tr th {\n",
       "        vertical-align: top;\n",
       "    }\n",
       "\n",
       "    .dataframe thead th {\n",
       "        text-align: right;\n",
       "    }\n",
       "</style>\n",
       "<table border=\"1\" class=\"dataframe\">\n",
       "  <thead>\n",
       "    <tr style=\"text-align: right;\">\n",
       "      <th></th>\n",
       "      <th>Unnamed: 0</th>\n",
       "      <th>Unnamed: 1</th>\n",
       "      <th>Census</th>\n",
       "      <th>Estimates Base</th>\n",
       "      <th>2010</th>\n",
       "    </tr>\n",
       "  </thead>\n",
       "  <tbody>\n",
       "    <tr>\n",
       "      <th>0</th>\n",
       "      <td>1</td>\n",
       "      <td>New York city, New York</td>\n",
       "      <td>8,175,133</td>\n",
       "      <td>8,175,031</td>\n",
       "      <td>8,190,209</td>\n",
       "    </tr>\n",
       "    <tr>\n",
       "      <th>1</th>\n",
       "      <td>2</td>\n",
       "      <td>Los Angeles city, California</td>\n",
       "      <td>3,792,621</td>\n",
       "      <td>3,793,139</td>\n",
       "      <td>3,795,512</td>\n",
       "    </tr>\n",
       "    <tr>\n",
       "      <th>2</th>\n",
       "      <td>3</td>\n",
       "      <td>Chicago city, Illinois</td>\n",
       "      <td>2,695,598</td>\n",
       "      <td>2,695,652</td>\n",
       "      <td>2,697,477</td>\n",
       "    </tr>\n",
       "    <tr>\n",
       "      <th>3</th>\n",
       "      <td>4</td>\n",
       "      <td>Houston city, Texas</td>\n",
       "      <td>2,099,451</td>\n",
       "      <td>2,095,517</td>\n",
       "      <td>2,100,280</td>\n",
       "    </tr>\n",
       "    <tr>\n",
       "      <th>4</th>\n",
       "      <td>5</td>\n",
       "      <td>Phoenix city, Arizona</td>\n",
       "      <td>1,445,632</td>\n",
       "      <td>1,446,691</td>\n",
       "      <td>1,449,038</td>\n",
       "    </tr>\n",
       "  </tbody>\n",
       "</table>\n",
       "</div>"
      ],
      "text/plain": [
       "  Unnamed: 0                    Unnamed: 1     Census Estimates Base  \\\n",
       "0          1       New York city, New York  8,175,133      8,175,031   \n",
       "1          2  Los Angeles city, California  3,792,621      3,793,139   \n",
       "2          3        Chicago city, Illinois  2,695,598      2,695,652   \n",
       "3          4           Houston city, Texas  2,099,451      2,095,517   \n",
       "4          5         Phoenix city, Arizona  1,445,632      1,446,691   \n",
       "\n",
       "        2010  \n",
       "0  8,190,209  \n",
       "1  3,795,512  \n",
       "2  2,697,477  \n",
       "3  2,100,280  \n",
       "4  1,449,038  "
      ]
     },
     "execution_count": 61,
     "metadata": {},
     "output_type": "execute_result"
    }
   ],
   "source": [
    "#refer to rows and columns by index\n",
    "data.iloc[:5, :5]"
   ]
  },
  {
   "cell_type": "code",
   "execution_count": 62,
   "metadata": {},
   "outputs": [
    {
     "data": {
      "text/html": [
       "<div>\n",
       "<style scoped>\n",
       "    .dataframe tbody tr th:only-of-type {\n",
       "        vertical-align: middle;\n",
       "    }\n",
       "\n",
       "    .dataframe tbody tr th {\n",
       "        vertical-align: top;\n",
       "    }\n",
       "\n",
       "    .dataframe thead th {\n",
       "        text-align: right;\n",
       "    }\n",
       "</style>\n",
       "<table border=\"1\" class=\"dataframe\">\n",
       "  <thead>\n",
       "    <tr style=\"text-align: right;\">\n",
       "      <th></th>\n",
       "      <th>Census</th>\n",
       "      <th>Estimates Base</th>\n",
       "    </tr>\n",
       "  </thead>\n",
       "  <tbody>\n",
       "    <tr>\n",
       "      <th>0</th>\n",
       "      <td>8,175,133</td>\n",
       "      <td>8,175,031</td>\n",
       "    </tr>\n",
       "    <tr>\n",
       "      <th>1</th>\n",
       "      <td>3,792,621</td>\n",
       "      <td>3,793,139</td>\n",
       "    </tr>\n",
       "    <tr>\n",
       "      <th>2</th>\n",
       "      <td>2,695,598</td>\n",
       "      <td>2,695,652</td>\n",
       "    </tr>\n",
       "    <tr>\n",
       "      <th>3</th>\n",
       "      <td>2,099,451</td>\n",
       "      <td>2,095,517</td>\n",
       "    </tr>\n",
       "    <tr>\n",
       "      <th>4</th>\n",
       "      <td>1,445,632</td>\n",
       "      <td>1,446,691</td>\n",
       "    </tr>\n",
       "    <tr>\n",
       "      <th>5</th>\n",
       "      <td>1,526,006</td>\n",
       "      <td>1,526,012</td>\n",
       "    </tr>\n",
       "  </tbody>\n",
       "</table>\n",
       "</div>"
      ],
      "text/plain": [
       "      Census Estimates Base\n",
       "0  8,175,133      8,175,031\n",
       "1  3,792,621      3,793,139\n",
       "2  2,695,598      2,695,652\n",
       "3  2,099,451      2,095,517\n",
       "4  1,445,632      1,446,691\n",
       "5  1,526,006      1,526,012"
      ]
     },
     "execution_count": 62,
     "metadata": {},
     "output_type": "execute_result"
    }
   ],
   "source": [
    "#refer to rows and columns by names\n",
    "data.loc[:5, ['Census', 'Estimates Base']]"
   ]
  },
  {
   "cell_type": "code",
   "execution_count": 52,
   "metadata": {},
   "outputs": [
    {
     "data": {
      "text/html": [
       "<div>\n",
       "<style scoped>\n",
       "    .dataframe tbody tr th:only-of-type {\n",
       "        vertical-align: middle;\n",
       "    }\n",
       "\n",
       "    .dataframe tbody tr th {\n",
       "        vertical-align: top;\n",
       "    }\n",
       "\n",
       "    .dataframe thead th {\n",
       "        text-align: right;\n",
       "    }\n",
       "</style>\n",
       "<table border=\"1\" class=\"dataframe\">\n",
       "  <thead>\n",
       "    <tr style=\"text-align: right;\">\n",
       "      <th></th>\n",
       "      <th>Unnamed: 0</th>\n",
       "      <th>Unnamed: 1</th>\n",
       "      <th>Census</th>\n",
       "      <th>Estimates Base</th>\n",
       "      <th>2010</th>\n",
       "      <th>2011</th>\n",
       "      <th>2012</th>\n",
       "      <th>2013</th>\n",
       "      <th>2014</th>\n",
       "      <th>2015</th>\n",
       "      <th>2016</th>\n",
       "      <th>2017</th>\n",
       "      <th>2018</th>\n",
       "      <th>2019</th>\n",
       "    </tr>\n",
       "  </thead>\n",
       "  <tbody>\n",
       "    <tr>\n",
       "      <th>count</th>\n",
       "      <td>793</td>\n",
       "      <td>788</td>\n",
       "      <td>788</td>\n",
       "      <td>788</td>\n",
       "      <td>788</td>\n",
       "      <td>788</td>\n",
       "      <td>788</td>\n",
       "      <td>788</td>\n",
       "      <td>788</td>\n",
       "      <td>788</td>\n",
       "      <td>788</td>\n",
       "      <td>788</td>\n",
       "      <td>788</td>\n",
       "      <td>788</td>\n",
       "    </tr>\n",
       "    <tr>\n",
       "      <th>unique</th>\n",
       "      <td>790</td>\n",
       "      <td>788</td>\n",
       "      <td>776</td>\n",
       "      <td>786</td>\n",
       "      <td>785</td>\n",
       "      <td>785</td>\n",
       "      <td>783</td>\n",
       "      <td>785</td>\n",
       "      <td>783</td>\n",
       "      <td>786</td>\n",
       "      <td>787</td>\n",
       "      <td>784</td>\n",
       "      <td>785</td>\n",
       "      <td>785</td>\n",
       "    </tr>\n",
       "    <tr>\n",
       "      <th>top</th>\n",
       "      <td>519</td>\n",
       "      <td>Erie city, Pennsylvania</td>\n",
       "      <td>(X)</td>\n",
       "      <td>49,043</td>\n",
       "      <td>97,849</td>\n",
       "      <td>73,789</td>\n",
       "      <td>57,255</td>\n",
       "      <td>52,786</td>\n",
       "      <td>154,376</td>\n",
       "      <td>60,908</td>\n",
       "      <td>60,304</td>\n",
       "      <td>55,336</td>\n",
       "      <td>65,495</td>\n",
       "      <td>59,439</td>\n",
       "    </tr>\n",
       "    <tr>\n",
       "      <th>freq</th>\n",
       "      <td>2</td>\n",
       "      <td>1</td>\n",
       "      <td>8</td>\n",
       "      <td>2</td>\n",
       "      <td>2</td>\n",
       "      <td>2</td>\n",
       "      <td>2</td>\n",
       "      <td>2</td>\n",
       "      <td>2</td>\n",
       "      <td>2</td>\n",
       "      <td>2</td>\n",
       "      <td>2</td>\n",
       "      <td>2</td>\n",
       "      <td>2</td>\n",
       "    </tr>\n",
       "  </tbody>\n",
       "</table>\n",
       "</div>"
      ],
      "text/plain": [
       "       Unnamed: 0               Unnamed: 1 Census Estimates Base    2010  \\\n",
       "count         793                      788    788            788     788   \n",
       "unique        790                      788    776            786     785   \n",
       "top           519  Erie city, Pennsylvania    (X)         49,043  97,849   \n",
       "freq            2                        1      8              2       2   \n",
       "\n",
       "          2011    2012    2013     2014    2015    2016    2017    2018  \\\n",
       "count      788     788     788      788     788     788     788     788   \n",
       "unique     785     783     785      783     786     787     784     785   \n",
       "top     73,789  57,255  52,786  154,376  60,908  60,304  55,336  65,495   \n",
       "freq         2       2       2        2       2       2       2       2   \n",
       "\n",
       "          2019  \n",
       "count      788  \n",
       "unique     785  \n",
       "top     59,439  \n",
       "freq         2  "
      ]
     },
     "execution_count": 52,
     "metadata": {},
     "output_type": "execute_result"
    }
   ],
   "source": [
    "data.describe()"
   ]
  },
  {
   "cell_type": "code",
   "execution_count": 58,
   "metadata": {},
   "outputs": [
    {
     "data": {
      "text/plain": [
       "0      8,175,133\n",
       "1      3,792,621\n",
       "2      2,695,598\n",
       "3      2,099,451\n",
       "4      1,445,632\n",
       "         ...    \n",
       "788          NaN\n",
       "789          NaN\n",
       "790          NaN\n",
       "791          NaN\n",
       "792          NaN\n",
       "Name: Census, Length: 793, dtype: object"
      ]
     },
     "execution_count": 58,
     "metadata": {},
     "output_type": "execute_result"
    }
   ],
   "source": [
    "data['Census']"
   ]
  },
  {
   "cell_type": "code",
   "execution_count": 67,
   "metadata": {},
   "outputs": [
    {
     "data": {
      "text/html": [
       "<div>\n",
       "<style scoped>\n",
       "    .dataframe tbody tr th:only-of-type {\n",
       "        vertical-align: middle;\n",
       "    }\n",
       "\n",
       "    .dataframe tbody tr th {\n",
       "        vertical-align: top;\n",
       "    }\n",
       "\n",
       "    .dataframe thead th {\n",
       "        text-align: right;\n",
       "    }\n",
       "</style>\n",
       "<table border=\"1\" class=\"dataframe\">\n",
       "  <thead>\n",
       "    <tr style=\"text-align: right;\">\n",
       "      <th></th>\n",
       "      <th>Census</th>\n",
       "      <th>2010</th>\n",
       "    </tr>\n",
       "  </thead>\n",
       "  <tbody>\n",
       "    <tr>\n",
       "      <th>0</th>\n",
       "      <td>8,175,133</td>\n",
       "      <td>8,190,209</td>\n",
       "    </tr>\n",
       "    <tr>\n",
       "      <th>1</th>\n",
       "      <td>3,792,621</td>\n",
       "      <td>3,795,512</td>\n",
       "    </tr>\n",
       "    <tr>\n",
       "      <th>2</th>\n",
       "      <td>2,695,598</td>\n",
       "      <td>2,697,477</td>\n",
       "    </tr>\n",
       "    <tr>\n",
       "      <th>3</th>\n",
       "      <td>2,099,451</td>\n",
       "      <td>2,100,280</td>\n",
       "    </tr>\n",
       "    <tr>\n",
       "      <th>4</th>\n",
       "      <td>1,445,632</td>\n",
       "      <td>1,449,038</td>\n",
       "    </tr>\n",
       "    <tr>\n",
       "      <th>...</th>\n",
       "      <td>...</td>\n",
       "      <td>...</td>\n",
       "    </tr>\n",
       "    <tr>\n",
       "      <th>788</th>\n",
       "      <td>NaN</td>\n",
       "      <td>NaN</td>\n",
       "    </tr>\n",
       "    <tr>\n",
       "      <th>789</th>\n",
       "      <td>NaN</td>\n",
       "      <td>NaN</td>\n",
       "    </tr>\n",
       "    <tr>\n",
       "      <th>790</th>\n",
       "      <td>NaN</td>\n",
       "      <td>NaN</td>\n",
       "    </tr>\n",
       "    <tr>\n",
       "      <th>791</th>\n",
       "      <td>NaN</td>\n",
       "      <td>NaN</td>\n",
       "    </tr>\n",
       "    <tr>\n",
       "      <th>792</th>\n",
       "      <td>NaN</td>\n",
       "      <td>NaN</td>\n",
       "    </tr>\n",
       "  </tbody>\n",
       "</table>\n",
       "<p>793 rows × 2 columns</p>\n",
       "</div>"
      ],
      "text/plain": [
       "        Census       2010\n",
       "0    8,175,133  8,190,209\n",
       "1    3,792,621  3,795,512\n",
       "2    2,695,598  2,697,477\n",
       "3    2,099,451  2,100,280\n",
       "4    1,445,632  1,449,038\n",
       "..         ...        ...\n",
       "788        NaN        NaN\n",
       "789        NaN        NaN\n",
       "790        NaN        NaN\n",
       "791        NaN        NaN\n",
       "792        NaN        NaN\n",
       "\n",
       "[793 rows x 2 columns]"
      ]
     },
     "execution_count": 67,
     "metadata": {},
     "output_type": "execute_result"
    }
   ],
   "source": [
    "#select multiple columns \n",
    "#data[['Census', '2010']]\n",
    "data.loc[:, ['Census', '2010']]"
   ]
  },
  {
   "cell_type": "code",
   "execution_count": null,
   "metadata": {},
   "outputs": [],
   "source": []
  },
  {
   "cell_type": "code",
   "execution_count": null,
   "metadata": {},
   "outputs": [],
   "source": []
  },
  {
   "cell_type": "code",
   "execution_count": null,
   "metadata": {},
   "outputs": [],
   "source": []
  },
  {
   "cell_type": "code",
   "execution_count": null,
   "metadata": {},
   "outputs": [],
   "source": []
  },
  {
   "cell_type": "code",
   "execution_count": 53,
   "metadata": {},
   "outputs": [],
   "source": [
    "def avg(x):\n",
    "    global average\n",
    "    average = sum(x)/len(x)\n",
    "    return average"
   ]
  },
  {
   "cell_type": "code",
   "execution_count": 54,
   "metadata": {},
   "outputs": [],
   "source": [
    "nums = [3, 2, 5, 9]"
   ]
  },
  {
   "cell_type": "code",
   "execution_count": 55,
   "metadata": {},
   "outputs": [
    {
     "data": {
      "text/plain": [
       "4.75"
      ]
     },
     "execution_count": 55,
     "metadata": {},
     "output_type": "execute_result"
    }
   ],
   "source": [
    "avg(nums)"
   ]
  },
  {
   "cell_type": "code",
   "execution_count": 56,
   "metadata": {},
   "outputs": [
    {
     "data": {
      "text/plain": [
       "4.75"
      ]
     },
     "execution_count": 56,
     "metadata": {},
     "output_type": "execute_result"
    }
   ],
   "source": [
    "average"
   ]
  },
  {
   "cell_type": "code",
   "execution_count": null,
   "metadata": {},
   "outputs": [],
   "source": []
  }
 ],
 "metadata": {
  "kernelspec": {
   "display_name": "Python 3",
   "language": "python",
   "name": "python3"
  },
  "language_info": {
   "codemirror_mode": {
    "name": "ipython",
    "version": 3
   },
   "file_extension": ".py",
   "mimetype": "text/x-python",
   "name": "python",
   "nbconvert_exporter": "python",
   "pygments_lexer": "ipython3",
   "version": "3.8.3"
  }
 },
 "nbformat": 4,
 "nbformat_minor": 4
}
