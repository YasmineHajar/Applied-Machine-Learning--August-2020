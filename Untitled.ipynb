{
 "cells": [
  {
   "cell_type": "markdown",
   "metadata": {},
   "source": [
    "### AML: Week 11\n"
   ]
  },
  {
   "cell_type": "code",
   "execution_count": 1,
   "metadata": {},
   "outputs": [],
   "source": [
    "import numpy as np\n",
    "import matplotlib.pyplot as plt"
   ]
  },
  {
   "cell_type": "code",
   "execution_count": 2,
   "metadata": {},
   "outputs": [],
   "source": [
    "from sklearn.datasets import make_regression"
   ]
  },
  {
   "cell_type": "code",
   "execution_count": 3,
   "metadata": {},
   "outputs": [],
   "source": [
    "X, y = make_regression(n_features = 10)"
   ]
  },
  {
   "cell_type": "code",
   "execution_count": 6,
   "metadata": {},
   "outputs": [
    {
     "data": {
      "text/plain": [
       "<matplotlib.collections.PathCollection at 0x7fbb8a57cfa0>"
      ]
     },
     "execution_count": 6,
     "metadata": {},
     "output_type": "execute_result"
    },
    {
     "data": {
      "image/png": "[encoded data removed]",
      "text/plain": [
       "<Figure size 432x288 with 1 Axes>"
      ]
     },
     "metadata": {
      "needs_background": "light"
     },
     "output_type": "display_data"
    }
   ],
   "source": [
    "plt.scatter(X[:, 0], y)"
   ]
  },
  {
   "cell_type": "code",
   "execution_count": 7,
   "metadata": {},
   "outputs": [],
   "source": [
    "from pandas.plotting import scatter_matrix"
   ]
  },
  {
   "cell_type": "code",
   "execution_count": 8,
   "metadata": {},
   "outputs": [],
   "source": [
    "import pandas as pd"
   ]
  },
  {
   "cell_type": "code",
   "execution_count": 9,
   "metadata": {},
   "outputs": [],
   "source": [
    "df = pd.DataFrame(X)\n",
    "df['y'] = y"
   ]
  },
  {
   "cell_type": "code",
   "execution_count": 12,
   "metadata": {},
   "outputs": [],
   "source": [
    "import seaborn as sns"
   ]
  },
  {
   "cell_type": "code",
   "execution_count": 18,
   "metadata": {},
   "outputs": [
    {
     "data": {
      "text/plain": [
       "Text(0.5, 1.0, 'Correlation with $y$')"
      ]
     },
     "execution_count": 18,
     "metadata": {},
     "output_type": "execute_result"
    },
    {
     "data": {
      "image/png": "[encoded data removed]",
      "text/plain": [
       "<Figure size 432x288 with 2 Axes>"
      ]
     },
     "metadata": {
      "needs_background": "light"
     },
     "output_type": "display_data"
    }
   ],
   "source": [
    "sns.heatmap(df.corr()[['y']], annot = True, cmap = 'BuPu')\n",
    "plt.title('Correlation with $y$')"
   ]
  },
  {
   "cell_type": "markdown",
   "metadata": {},
   "source": [
    "### The Normal Equation\n",
    "\n",
    "The normal equation aka Linear Regression looks like:\n",
    "\n",
    "$$\\beta = (X^TX)^{-1}X^Ty$$"
   ]
  },
  {
   "cell_type": "code",
   "execution_count": 19,
   "metadata": {},
   "outputs": [
    {
     "data": {
      "text/latex": [
       "$$\\beta = (X^TX)^{-1}X^Ty$$\n"
      ],
      "text/plain": [
       "<IPython.core.display.Latex object>"
      ]
     },
     "metadata": {},
     "output_type": "display_data"
    }
   ],
   "source": [
    "%%latex\n",
    "$$\\beta = (X^TX)^{-1}X^Ty$$"
   ]
  },
  {
   "cell_type": "code",
   "execution_count": 20,
   "metadata": {},
   "outputs": [],
   "source": [
    "def ols(X, y):\n",
    "    return np.linalg.inv(X.T@X)@X.T@y"
   ]
  },
  {
   "cell_type": "code",
   "execution_count": 23,
   "metadata": {},
   "outputs": [],
   "source": [
    "b = ols(X, y)"
   ]
  },
  {
   "cell_type": "code",
   "execution_count": 24,
   "metadata": {},
   "outputs": [
    {
     "data": {
      "text/plain": [
       "-60.37281495047168"
      ]
     },
     "execution_count": 24,
     "metadata": {},
     "output_type": "execute_result"
    }
   ],
   "source": [
    "X[0, :]@b"
   ]
  },
  {
   "cell_type": "code",
   "execution_count": 26,
   "metadata": {},
   "outputs": [],
   "source": [
    "def prod(X):\n",
    "    return X@b"
   ]
  },
  {
   "cell_type": "code",
   "execution_count": 29,
   "metadata": {},
   "outputs": [],
   "source": [
    "preds = np.apply_along_axis(prod, 1, X)"
   ]
  },
  {
   "cell_type": "code",
   "execution_count": 35,
   "metadata": {},
   "outputs": [
    {
     "data": {
      "text/plain": [
       "array([-60.37281495, 192.45314443,  -8.10132131, -83.61340882,\n",
       "        -0.93527585])"
      ]
     },
     "execution_count": 35,
     "metadata": {},
     "output_type": "execute_result"
    }
   ],
   "source": [
    "preds[:5]"
   ]
  },
  {
   "cell_type": "code",
   "execution_count": 36,
   "metadata": {},
   "outputs": [
    {
     "data": {
      "text/plain": [
       "array([-60.37281495, 192.45314443,  -8.10132131, -83.61340882,\n",
       "        -0.93527585])"
      ]
     },
     "execution_count": 36,
     "metadata": {},
     "output_type": "execute_result"
    }
   ],
   "source": [
    "y[:5]"
   ]
  },
  {
   "cell_type": "code",
   "execution_count": 33,
   "metadata": {},
   "outputs": [
    {
     "data": {
      "text/plain": [
       "<matplotlib.collections.PathCollection at 0x7fbb6f703dc0>"
      ]
     },
     "execution_count": 33,
     "metadata": {},
     "output_type": "execute_result"
    },
    {
     "data": {
      "image/png": "[encoded data removed]",
      "text/plain": [
       "<Figure size 432x288 with 1 Axes>"
      ]
     },
     "metadata": {
      "needs_background": "light"
     },
     "output_type": "display_data"
    }
   ],
   "source": [
    "plt.scatter(X[:, 0], y)"
   ]
  },
  {
   "cell_type": "code",
   "execution_count": 51,
   "metadata": {},
   "outputs": [],
   "source": [
    "class Dog:\n",
    "    def __init__(self, name):\n",
    "        self.name = name\n",
    "    \n",
    "    def bark(self):\n",
    "        return 'woof'\n",
    "    \n",
    "    def obey(self):\n",
    "        return f'{self.name} obeys'"
   ]
  },
  {
   "cell_type": "code",
   "execution_count": 52,
   "metadata": {},
   "outputs": [],
   "source": [
    "doggie_1 = Dog('steve')"
   ]
  },
  {
   "cell_type": "code",
   "execution_count": 53,
   "metadata": {},
   "outputs": [
    {
     "data": {
      "text/plain": [
       "'steve'"
      ]
     },
     "execution_count": 53,
     "metadata": {},
     "output_type": "execute_result"
    }
   ],
   "source": [
    "doggie_1.name"
   ]
  },
  {
   "cell_type": "code",
   "execution_count": 54,
   "metadata": {},
   "outputs": [
    {
     "data": {
      "text/plain": [
       "'woof'"
      ]
     },
     "execution_count": 54,
     "metadata": {},
     "output_type": "execute_result"
    }
   ],
   "source": [
    "doggie_1.bark()"
   ]
  },
  {
   "cell_type": "code",
   "execution_count": 55,
   "metadata": {},
   "outputs": [
    {
     "data": {
      "text/plain": [
       "'steve obeys'"
      ]
     },
     "execution_count": 55,
     "metadata": {},
     "output_type": "execute_result"
    }
   ],
   "source": [
    "doggie_1.obey()"
   ]
  },
  {
   "cell_type": "code",
   "execution_count": 90,
   "metadata": {},
   "outputs": [],
   "source": [
    "class LinearRegression:\n",
    "    \n",
    "    def __init__(self, fit_intercept = False):\n",
    "        self.coefs_ = None\n",
    "        self.intercept_ = None\n",
    "        self.fit_intercept = fit_intercept\n",
    "        \n",
    "    def fit(self, X, y):\n",
    "        if self.fit_intercept:\n",
    "            ones = np.ones((X.shape[0], 1))\n",
    "            X = np.concatenate((ones, X), axis = 1)\n",
    "        weights = np.linalg.inv(X.T@X)@X.T@y\n",
    "        self.coefs_ = weights[1:]\n",
    "        self.intercept_ = weights[0]\n",
    "        return self\n",
    "    \n",
    "    def predict(self, X):\n",
    "        return X@self.coefs_.T + self.intercept_"
   ]
  },
  {
   "cell_type": "code",
   "execution_count": 91,
   "metadata": {},
   "outputs": [],
   "source": [
    "lr = LinearRegression(fit_intercept=True)"
   ]
  },
  {
   "cell_type": "code",
   "execution_count": 92,
   "metadata": {},
   "outputs": [
    {
     "data": {
      "text/plain": [
       "<__main__.LinearRegression at 0x7fbb6f76ba90>"
      ]
     },
     "execution_count": 92,
     "metadata": {},
     "output_type": "execute_result"
    }
   ],
   "source": [
    "lr.fit(X, y)"
   ]
  },
  {
   "cell_type": "code",
   "execution_count": 93,
   "metadata": {},
   "outputs": [
    {
     "data": {
      "text/plain": [
       "array([ -60.37281495,  192.45314443,   -8.10132131,  -83.61340882,\n",
       "         -0.93527585, -297.27544753,  197.97044792,  176.29825328,\n",
       "        -98.36788118,  -16.22368171,   19.90012034,   53.18678817,\n",
       "        106.19461959,   20.35570224, -183.42138533, -453.03126413,\n",
       "        317.92208329, -137.46660104,   97.21644433,  -18.43089939,\n",
       "        127.44156828,  -67.90682695, -132.04458635,  -15.58055657,\n",
       "       -115.58350926,  233.98220982, -208.95516861, -262.46805895,\n",
       "        202.6541721 ,  -18.38645619, -112.6073131 , -166.60075971,\n",
       "         36.02892538, -130.48589543, -115.60078466, -145.92629691,\n",
       "        367.07622889,  190.07440382,  -35.16580096,   75.21191848,\n",
       "        142.54272556,  -37.53586782,  134.84056808,  152.42132309,\n",
       "         44.05899604,  227.33630015,  145.71670489,  247.00850702,\n",
       "       -147.34811716, -227.67969237,  168.06066506, -142.20866156,\n",
       "       -154.82950633, -274.47716792,   52.12334218,  331.44226996,\n",
       "       -512.42640885,  -81.92721449, -503.41757849,  -94.94174136,\n",
       "        283.58817844,   47.57175614, -175.44228391,  176.81586382,\n",
       "       -213.83659273,   66.91711701,    8.96059202,  232.96149577,\n",
       "       -150.86983649, -307.0755946 ,  -87.32941891,  302.51497107,\n",
       "        -84.69810449, -147.31907906, -170.97630087, -225.96764466,\n",
       "        102.78616535, -371.43531001, -107.16136327,    4.53800457,\n",
       "         -1.01059648, -276.93865245,   49.05418105,  -91.07965259,\n",
       "        231.7722863 ,  165.10551519, -303.21694061, -380.57311296,\n",
       "        315.84900796, -356.92910111,  -21.02534833, -179.63331956,\n",
       "        131.75329195,   67.60036051,  -81.96213708,  -43.36036125,\n",
       "          4.50757308, -172.14452603,  154.60419336,   67.50266927])"
      ]
     },
     "execution_count": 93,
     "metadata": {},
     "output_type": "execute_result"
    }
   ],
   "source": [
    "lr.predict(X)"
   ]
  },
  {
   "cell_type": "code",
   "execution_count": 94,
   "metadata": {},
   "outputs": [
    {
     "data": {
      "text/plain": [
       "(10,)"
      ]
     },
     "execution_count": 94,
     "metadata": {},
     "output_type": "execute_result"
    }
   ],
   "source": [
    "lr.coefs_.shape"
   ]
  },
  {
   "cell_type": "code",
   "execution_count": 95,
   "metadata": {},
   "outputs": [
    {
     "data": {
      "text/plain": [
       "-7.105427357601002e-15"
      ]
     },
     "execution_count": 95,
     "metadata": {},
     "output_type": "execute_result"
    }
   ],
   "source": [
    "lr.intercept_"
   ]
  },
  {
   "cell_type": "code",
   "execution_count": 96,
   "metadata": {},
   "outputs": [
    {
     "data": {
      "text/plain": [
       "array([ -60.37281495,  192.45314443,   -8.10132131,  -83.61340882,\n",
       "         -0.93527585, -297.27544753,  197.97044792,  176.29825328,\n",
       "        -98.36788118,  -16.22368171,   19.90012034,   53.18678817,\n",
       "        106.19461959,   20.35570224, -183.42138533, -453.03126413,\n",
       "        317.92208329, -137.46660104,   97.21644433,  -18.43089939,\n",
       "        127.44156828,  -67.90682695, -132.04458635,  -15.58055657,\n",
       "       -115.58350926,  233.98220982, -208.95516861, -262.46805895,\n",
       "        202.6541721 ,  -18.38645619, -112.6073131 , -166.60075971,\n",
       "         36.02892538, -130.48589543, -115.60078466, -145.92629691,\n",
       "        367.07622889,  190.07440382,  -35.16580096,   75.21191848,\n",
       "        142.54272556,  -37.53586782,  134.84056808,  152.42132309,\n",
       "         44.05899604,  227.33630015,  145.71670489,  247.00850702,\n",
       "       -147.34811716, -227.67969237,  168.06066506, -142.20866156,\n",
       "       -154.82950633, -274.47716792,   52.12334218,  331.44226996,\n",
       "       -512.42640885,  -81.92721449, -503.41757849,  -94.94174136,\n",
       "        283.58817844,   47.57175614, -175.44228391,  176.81586382,\n",
       "       -213.83659273,   66.91711701,    8.96059202,  232.96149577,\n",
       "       -150.86983649, -307.0755946 ,  -87.32941891,  302.51497107,\n",
       "        -84.69810449, -147.31907906, -170.97630087, -225.96764466,\n",
       "        102.78616535, -371.43531001, -107.16136327,    4.53800457,\n",
       "         -1.01059648, -276.93865245,   49.05418105,  -91.07965259,\n",
       "        231.7722863 ,  165.10551519, -303.21694061, -380.57311296,\n",
       "        315.84900796, -356.92910111,  -21.02534833, -179.63331956,\n",
       "        131.75329195,   67.60036051,  -81.96213708,  -43.36036125,\n",
       "          4.50757308, -172.14452603,  154.60419336,   67.50266927])"
      ]
     },
     "execution_count": 96,
     "metadata": {},
     "output_type": "execute_result"
    }
   ],
   "source": [
    "lr.predict(X)"
   ]
  },
  {
   "cell_type": "code",
   "execution_count": null,
   "metadata": {},
   "outputs": [],
   "source": []
  }
 ],
 "metadata": {
  "kernelspec": {
   "display_name": "Python 3",
   "language": "python",
   "name": "python3"
  },
  "language_info": {
   "codemirror_mode": {
    "name": "ipython",
    "version": 3
   },
   "file_extension": ".py",
   "mimetype": "text/x-python",
   "name": "python",
   "nbconvert_exporter": "python",
   "pygments_lexer": "ipython3",
   "version": "3.8.3"
  }
 },
 "nbformat": 4,
 "nbformat_minor": 4
}
