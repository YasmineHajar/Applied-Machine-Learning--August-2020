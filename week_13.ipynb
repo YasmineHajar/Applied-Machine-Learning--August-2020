{
 "cells": [
  {
   "cell_type": "markdown",
   "metadata": {},
   "source": [
    "### Broadening Linear Regression\n",
    "\n",
    "- Polynomial Features\n",
    "- Cross-Validation\n",
    "- GridSearch\n",
    "- Pipeline"
   ]
  },
  {
   "cell_type": "code",
   "execution_count": 1,
   "metadata": {},
   "outputs": [],
   "source": [
    "from sklearn.datasets import make_regression"
   ]
  },
  {
   "cell_type": "code",
   "execution_count": 7,
   "metadata": {},
   "outputs": [],
   "source": [
    "X, y = make_regression(n_features = 10)"
   ]
  },
  {
   "cell_type": "code",
   "execution_count": 8,
   "metadata": {},
   "outputs": [],
   "source": [
    "import matplotlib.pyplot as plt"
   ]
  },
  {
   "cell_type": "code",
   "execution_count": 15,
   "metadata": {},
   "outputs": [
    {
     "data": {
      "text/plain": [
       "<matplotlib.collections.PathCollection at 0x7f92923c9cd0>"
      ]
     },
     "execution_count": 15,
     "metadata": {},
     "output_type": "execute_result"
    },
    {
     "data": {
      "image/png": "[encoded data removed]",
      "text/plain": [
       "<Figure size 432x288 with 1 Axes>"
      ]
     },
     "metadata": {
      "needs_background": "light"
     },
     "output_type": "display_data"
    }
   ],
   "source": [
    "import numpy as np\n",
    "x = np.linspace(0, 2, 100)\n",
    "y = x**2 + .10*x - 4 + np.random.random(100)\n",
    "plt.scatter(x, y)"
   ]
  },
  {
   "cell_type": "code",
   "execution_count": 16,
   "metadata": {},
   "outputs": [
    {
     "data": {
      "text/latex": [
       "$$(y_i - (mx + b))^2$$\n"
      ],
      "text/plain": [
       "<IPython.core.display.Latex object>"
      ]
     },
     "metadata": {},
     "output_type": "display_data"
    }
   ],
   "source": [
    "%%latex\n",
    "$$(y_i - (mx + b))^2$$"
   ]
  },
  {
   "cell_type": "code",
   "execution_count": 17,
   "metadata": {},
   "outputs": [
    {
     "data": {
      "text/latex": [
       "$$(y_i - (a + bx + cx^2))^2$$\n"
      ],
      "text/plain": [
       "<IPython.core.display.Latex object>"
      ]
     },
     "metadata": {},
     "output_type": "display_data"
    }
   ],
   "source": [
    "%%latex\n",
    "$$(y_i - (a + bx + cx^2))^2$$"
   ]
  },
  {
   "cell_type": "code",
   "execution_count": 18,
   "metadata": {},
   "outputs": [],
   "source": [
    "from sklearn.linear_model import LinearRegression"
   ]
  },
  {
   "cell_type": "code",
   "execution_count": 19,
   "metadata": {},
   "outputs": [
    {
     "data": {
      "text/plain": [
       "(100,)"
      ]
     },
     "execution_count": 19,
     "metadata": {},
     "output_type": "execute_result"
    }
   ],
   "source": [
    "lr = LinearRegression()\n",
    "x.shape"
   ]
  },
  {
   "cell_type": "code",
   "execution_count": 21,
   "metadata": {},
   "outputs": [
    {
     "data": {
      "text/plain": [
       "LinearRegression()"
      ]
     },
     "execution_count": 21,
     "metadata": {},
     "output_type": "execute_result"
    }
   ],
   "source": [
    "lr.fit(x.reshape(-1, 1), y)"
   ]
  },
  {
   "cell_type": "code",
   "execution_count": 22,
   "metadata": {},
   "outputs": [
    {
     "data": {
      "text/plain": [
       "array([2.08515558])"
      ]
     },
     "execution_count": 22,
     "metadata": {},
     "output_type": "execute_result"
    }
   ],
   "source": [
    "lr.coef_"
   ]
  },
  {
   "cell_type": "code",
   "execution_count": 23,
   "metadata": {},
   "outputs": [
    {
     "data": {
      "text/plain": [
       "-4.122012696133952"
      ]
     },
     "execution_count": 23,
     "metadata": {},
     "output_type": "execute_result"
    }
   ],
   "source": [
    "lr.intercept_"
   ]
  },
  {
   "cell_type": "code",
   "execution_count": 24,
   "metadata": {},
   "outputs": [
    {
     "data": {
      "text/plain": [
       "[<matplotlib.lines.Line2D at 0x7f92407d61f0>]"
      ]
     },
     "execution_count": 24,
     "metadata": {},
     "output_type": "execute_result"
    },
    {
     "data": {
      "image/png": "[encoded data removed]",
      "text/plain": [
       "<Figure size 432x288 with 1 Axes>"
      ]
     },
     "metadata": {
      "needs_background": "light"
     },
     "output_type": "display_data"
    }
   ],
   "source": [
    "import numpy as np\n",
    "x = np.linspace(0, 2, 100)\n",
    "y = x**2 + .10*x - 4 + np.random.random(100)\n",
    "plt.scatter(x, y)\n",
    "\n",
    "def l(x):\n",
    "    return lr.coef_*x + lr.intercept_\n",
    "\n",
    "plt.plot(x, l(x), '--r')"
   ]
  },
  {
   "cell_type": "code",
   "execution_count": 25,
   "metadata": {},
   "outputs": [],
   "source": [
    "x = x.reshape(-1, 1)\n",
    "x2 = x**2\n",
    "X = np.concatenate((x, x2), axis = 1)"
   ]
  },
  {
   "cell_type": "code",
   "execution_count": 27,
   "metadata": {},
   "outputs": [
    {
     "data": {
      "text/plain": [
       "LinearRegression()"
      ]
     },
     "execution_count": 27,
     "metadata": {},
     "output_type": "execute_result"
    }
   ],
   "source": [
    "lr2 = LinearRegression()\n",
    "lr2.fit(X, y)"
   ]
  },
  {
   "cell_type": "code",
   "execution_count": 28,
   "metadata": {},
   "outputs": [
    {
     "data": {
      "text/plain": [
       "array([0.1728426 , 0.99066466])"
      ]
     },
     "execution_count": 28,
     "metadata": {},
     "output_type": "execute_result"
    }
   ],
   "source": [
    "lr2.coef_"
   ]
  },
  {
   "cell_type": "code",
   "execution_count": 30,
   "metadata": {},
   "outputs": [
    {
     "data": {
      "text/plain": [
       "array([0.00000000e+00, 3.89608145e-03, 8.60078624e-03, 1.41141144e-02,\n",
       "       2.04360658e-02, 2.75666406e-02, 3.55058387e-02, 4.42536601e-02,\n",
       "       5.38101049e-02, 6.41751730e-02, 7.53488645e-02, 8.73311793e-02,\n",
       "       1.00122117e-01, 1.13721679e-01, 1.28129864e-01, 1.43346672e-01,\n",
       "       1.59372103e-01, 1.76206158e-01, 1.93848836e-01, 2.12300137e-01,\n",
       "       2.31560062e-01, 2.51628610e-01, 2.72505782e-01, 2.94191577e-01,\n",
       "       3.16685995e-01, 3.39989036e-01, 3.64100701e-01, 3.89020989e-01,\n",
       "       4.14749900e-01, 4.41287435e-01, 4.68633593e-01, 4.96788375e-01,\n",
       "       5.25751780e-01, 5.55523808e-01, 5.86104459e-01, 6.17493734e-01,\n",
       "       6.49691632e-01, 6.82698153e-01, 7.16513298e-01, 7.51137066e-01,\n",
       "       7.86569458e-01, 8.22810472e-01, 8.59860111e-01, 8.97718372e-01,\n",
       "       9.36385257e-01, 9.75860765e-01, 1.01614490e+00, 1.05723765e+00,\n",
       "       1.09913903e+00, 1.14184903e+00, 1.18536766e+00, 1.22969490e+00,\n",
       "       1.27483077e+00, 1.32077527e+00, 1.36752839e+00, 1.41509013e+00,\n",
       "       1.46346049e+00, 1.51263948e+00, 1.56262709e+00, 1.61342333e+00,\n",
       "       1.66502819e+00, 1.71744167e+00, 1.77066377e+00, 1.82469450e+00,\n",
       "       1.87953385e+00, 1.93518183e+00, 1.99163842e+00, 2.04890365e+00,\n",
       "       2.10697749e+00, 2.16585996e+00, 2.22555105e+00, 2.28605077e+00,\n",
       "       2.34735910e+00, 2.40947606e+00, 2.47240165e+00, 2.53613586e+00,\n",
       "       2.60067869e+00, 2.66603014e+00, 2.73219022e+00, 2.79915892e+00,\n",
       "       2.86693625e+00, 2.93552220e+00, 3.00491677e+00, 3.07511996e+00,\n",
       "       3.14613178e+00, 3.21795222e+00, 3.29058129e+00, 3.36401897e+00,\n",
       "       3.43826529e+00, 3.51332022e+00, 3.58918378e+00, 3.66585596e+00,\n",
       "       3.74333676e+00, 3.82162619e+00, 3.90072424e+00, 3.98063092e+00,\n",
       "       4.06134622e+00, 4.14287014e+00, 4.22520268e+00, 4.30834385e+00])"
      ]
     },
     "execution_count": 30,
     "metadata": {},
     "output_type": "execute_result"
    }
   ],
   "source": [
    "X@lr2.coef_.T"
   ]
  },
  {
   "cell_type": "code",
   "execution_count": 35,
   "metadata": {},
   "outputs": [
    {
     "data": {
      "image/png": "[encoded data removed]",
      "text/plain": [
       "<Figure size 432x288 with 1 Axes>"
      ]
     },
     "metadata": {
      "needs_background": "light"
     },
     "output_type": "display_data"
    }
   ],
   "source": [
    "import numpy as np\n",
    "x = np.linspace(0, 2, 100)\n",
    "y = x**2 + .10*x - 4 + np.random.random(100)\n",
    "plt.scatter(x, y, color = 'gray')\n",
    "\n",
    "def l(x):\n",
    "    return lr.coef_*x + lr.intercept_\n",
    "\n",
    "plt.plot(x, l(x), '-r', label = 'linear')\n",
    "\n",
    "def q(x):\n",
    "    return x@lr2.coef_.T + lr2.intercept_\n",
    "\n",
    "plt.plot(x, q(X), '-b', label = 'quadratic')\n",
    "plt.legend()\n",
    "plt.grid();"
   ]
  },
  {
   "cell_type": "markdown",
   "metadata": {},
   "source": [
    "### Using PolynomialFeatures"
   ]
  },
  {
   "cell_type": "code",
   "execution_count": 37,
   "metadata": {},
   "outputs": [],
   "source": [
    "from sklearn.preprocessing import PolynomialFeatures"
   ]
  },
  {
   "cell_type": "code",
   "execution_count": 38,
   "metadata": {},
   "outputs": [],
   "source": [
    "pfeatures = PolynomialFeatures()"
   ]
  },
  {
   "cell_type": "code",
   "execution_count": 39,
   "metadata": {},
   "outputs": [
    {
     "data": {
      "text/plain": [
       "(100,)"
      ]
     },
     "execution_count": 39,
     "metadata": {},
     "output_type": "execute_result"
    }
   ],
   "source": [
    "x.shape"
   ]
  },
  {
   "cell_type": "code",
   "execution_count": 41,
   "metadata": {},
   "outputs": [
    {
     "data": {
      "text/plain": [
       "PolynomialFeatures()"
      ]
     },
     "execution_count": 41,
     "metadata": {},
     "output_type": "execute_result"
    }
   ],
   "source": [
    "x = x.reshape(-1, 1)\n",
    "pfeatures.fit(x)"
   ]
  },
  {
   "cell_type": "code",
   "execution_count": 43,
   "metadata": {},
   "outputs": [
    {
     "data": {
      "text/plain": [
       "array([[0.        ],\n",
       "       [0.02020202],\n",
       "       [0.04040404],\n",
       "       [0.06060606],\n",
       "       [0.08080808],\n",
       "       [0.1010101 ],\n",
       "       [0.12121212],\n",
       "       [0.14141414],\n",
       "       [0.16161616],\n",
       "       [0.18181818]])"
      ]
     },
     "execution_count": 43,
     "metadata": {},
     "output_type": "execute_result"
    }
   ],
   "source": [
    "x[:10]"
   ]
  },
  {
   "cell_type": "code",
   "execution_count": 44,
   "metadata": {},
   "outputs": [
    {
     "data": {
      "text/plain": [
       "array([[1.00000000e+00, 0.00000000e+00, 0.00000000e+00],\n",
       "       [1.00000000e+00, 2.02020202e-02, 4.08121620e-04],\n",
       "       [1.00000000e+00, 4.04040404e-02, 1.63248648e-03],\n",
       "       [1.00000000e+00, 6.06060606e-02, 3.67309458e-03],\n",
       "       [1.00000000e+00, 8.08080808e-02, 6.52994592e-03],\n",
       "       [1.00000000e+00, 1.01010101e-01, 1.02030405e-02],\n",
       "       [1.00000000e+00, 1.21212121e-01, 1.46923783e-02],\n",
       "       [1.00000000e+00, 1.41414141e-01, 1.99979594e-02],\n",
       "       [1.00000000e+00, 1.61616162e-01, 2.61197837e-02],\n",
       "       [1.00000000e+00, 1.81818182e-01, 3.30578512e-02]])"
      ]
     },
     "execution_count": 44,
     "metadata": {},
     "output_type": "execute_result"
    }
   ],
   "source": [
    "pfeatures.transform(x)[:10]"
   ]
  },
  {
   "cell_type": "markdown",
   "metadata": {},
   "source": [
    "### Using a Pipeline"
   ]
  },
  {
   "cell_type": "code",
   "execution_count": 45,
   "metadata": {},
   "outputs": [],
   "source": [
    "from sklearn.pipeline import make_pipeline"
   ]
  },
  {
   "cell_type": "code",
   "execution_count": 46,
   "metadata": {},
   "outputs": [],
   "source": [
    "pipe = make_pipeline(PolynomialFeatures(), LinearRegression())"
   ]
  },
  {
   "cell_type": "code",
   "execution_count": 47,
   "metadata": {},
   "outputs": [
    {
     "data": {
      "text/plain": [
       "Pipeline(steps=[('polynomialfeatures', PolynomialFeatures()),\n",
       "                ('linearregression', LinearRegression())])"
      ]
     },
     "execution_count": 47,
     "metadata": {},
     "output_type": "execute_result"
    }
   ],
   "source": [
    "pipe.fit(x, y)"
   ]
  },
  {
   "cell_type": "code",
   "execution_count": 48,
   "metadata": {},
   "outputs": [
    {
     "data": {
      "text/plain": [
       "array([-3.509201  , -3.50261375, -3.495307  , -3.48728077, -3.47853505,\n",
       "       -3.46906983, -3.45888513, -3.44798093, -3.43635725, -3.42401408,\n",
       "       -3.41095141, -3.39716925, -3.38266761, -3.36744647, -3.35150585,\n",
       "       -3.33484573, -3.31746612, -3.29936703, -3.28054844, -3.26101036,\n",
       "       -3.2407528 , -3.21977574, -3.19807919, -3.17566315, -3.15252762,\n",
       "       -3.1286726 , -3.10409809, -3.07880409, -3.0527906 , -3.02605762,\n",
       "       -2.99860515, -2.97043319, -2.94154174, -2.9119308 , -2.88160037,\n",
       "       -2.85055045, -2.81878103, -2.78629213, -2.75308374, -2.71915586,\n",
       "       -2.68450848, -2.64914162, -2.61305527, -2.57624942, -2.53872409,\n",
       "       -2.50047926, -2.46151495, -2.42183114, -2.38142785, -2.34030506,\n",
       "       -2.29846278, -2.25590102, -2.21261976, -2.16861901, -2.12389878,\n",
       "       -2.07845905, -2.03229983, -1.98542112, -1.93782293, -1.88950524,\n",
       "       -1.84046806, -1.79071139, -1.74023523, -1.68903958, -1.63712444,\n",
       "       -1.58448981, -1.53113569, -1.47706208, -1.42226898, -1.36675639,\n",
       "       -1.31052431, -1.25357273, -1.19590167, -1.13751112, -1.07840108,\n",
       "       -1.01857154, -0.95802252, -0.89675401, -0.834766  , -0.77205851,\n",
       "       -0.70863153, -0.64448505, -0.57961909, -0.51403363, -0.44772869,\n",
       "       -0.38070425, -0.31296032, -0.24449691, -0.175314  , -0.1054116 ,\n",
       "       -0.03478972,  0.03655166,  0.10861253,  0.18139289,  0.25489273,\n",
       "        0.32911207,  0.4040509 ,  0.47970922,  0.55608703,  0.63318433])"
      ]
     },
     "execution_count": 48,
     "metadata": {},
     "output_type": "execute_result"
    }
   ],
   "source": [
    "pipe.predict(x)"
   ]
  },
  {
   "cell_type": "code",
   "execution_count": 49,
   "metadata": {},
   "outputs": [
    {
     "data": {
      "text/plain": [
       "<matplotlib.collections.PathCollection at 0x7f9292c26370>"
      ]
     },
     "execution_count": 49,
     "metadata": {},
     "output_type": "execute_result"
    },
    {
     "data": {
      "image/png": "[encoded data removed]",
      "text/plain": [
       "<Figure size 432x288 with 1 Axes>"
      ]
     },
     "metadata": {
      "needs_background": "light"
     },
     "output_type": "display_data"
    }
   ],
   "source": [
    "plt.scatter(x, pipe.predict(x))"
   ]
  },
  {
   "cell_type": "markdown",
   "metadata": {},
   "source": [
    "### Cross-Validation"
   ]
  },
  {
   "cell_type": "code",
   "execution_count": 50,
   "metadata": {},
   "outputs": [
    {
     "data": {
      "text/plain": [
       "LinearRegression()"
      ]
     },
     "execution_count": 50,
     "metadata": {},
     "output_type": "execute_result"
    }
   ],
   "source": [
    "lr2"
   ]
  },
  {
   "cell_type": "code",
   "execution_count": 51,
   "metadata": {},
   "outputs": [],
   "source": [
    "from sklearn.model_selection import cross_val_score"
   ]
  },
  {
   "cell_type": "code",
   "execution_count": 53,
   "metadata": {},
   "outputs": [
    {
     "data": {
      "text/plain": [
       "array([-1.2564549 , -0.0667557 , -0.34409316,  0.530195  ,  0.5584407 ])"
      ]
     },
     "execution_count": 53,
     "metadata": {},
     "output_type": "execute_result"
    }
   ],
   "source": [
    "cross_val_score(lr2, X, y)"
   ]
  }
 ],
 "metadata": {
  "kernelspec": {
   "display_name": "Python 3",
   "language": "python",
   "name": "python3"
  },
  "language_info": {
   "codemirror_mode": {
    "name": "ipython",
    "version": 3
   },
   "file_extension": ".py",
   "mimetype": "text/x-python",
   "name": "python",
   "nbconvert_exporter": "python",
   "pygments_lexer": "ipython3",
   "version": "3.8.2"
  }
 },
 "nbformat": 4,
 "nbformat_minor": 4
}
